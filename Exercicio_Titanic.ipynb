{
  "nbformat": 4,
  "nbformat_minor": 0,
  "metadata": {
    "kernelspec": {
      "display_name": "Python 3",
      "language": "python",
      "name": "python3"
    },
    "language_info": {
      "codemirror_mode": {
        "name": "ipython",
        "version": 3
      },
      "file_extension": ".py",
      "mimetype": "text/x-python",
      "name": "python",
      "nbconvert_exporter": "python",
      "pygments_lexer": "ipython3",
      "version": "3.7.8"
    },
    "colab": {
      "name": "Exercicio - Titanic.ipynb",
      "provenance": []
    }
  },
  "cells": [
    {
      "cell_type": "markdown",
      "metadata": {
        "id": "_o27VnGsthnG"
      },
      "source": [
        "# RMS Titanic\n",
        "\n",
        "## O RMS Titanic foi um navio de passageiros britânico operado pela White Star Line e construído pelos estaleiros da Harland and Wolff em Belfast. Foi a segunda embarcação da Classe Olympic de transatlânticos depois do RMS Olympic e seguido pelo HMHS Britannic. Projetado pelos engenheiros navais Alexander Carlisle e Thomas Andrews, sua construção começou em março de 1909 e ele foi lançado ao mar em maio de 1911. O Titanic foi pensado para ser o navio mais luxuoso e mais seguro de sua época, gerando lendas que era supostamente \"inafundável\".\n",
        "\n",
        "## A embarcação partiu em sua viagem inaugural de Southampton para Nova Iorque em 10 de abril de 1912, no caminho passando em Cherbourg-Octeville na França e por Queenstown na Irlanda. Ele colidiu com um iceberg às 23h40min do dia 14 de abril e afundou na madrugada do dia seguinte matando mais de 1500 pessoas, sendo um dos maiores desastres marítimos em tempos de paz de toda a história. Seu naufrágio destacou vários pontos fracos de seu projeto, deficiências nos procedimentos de evacuação de emergência e falhas nas regulamentações marítimas da época. Comissões de inquérito foram instauradas nos Estados Unidos e no Reino Unido, levando a mudanças nas leis internacionais de navegação que permanecem em vigor mais de um século depois.\n",
        "\n",
        "## Os destroços do Titanic foram procurados por décadas até serem encontrados em 1985 por uma equipe liderada por Robert Ballard. Ele se encontra a 3843 m de profundidade e a 650 km ao sudeste de Terra Nova no Canadá. Sua história e naufrágio permaneceram no imaginário popular durante décadas, levando a produção de vários livros e filmes a seu respeito, mais notavelmente o filme Titanic de 1997. Até hoje o Titanic permanece como um dos navios mais famosos da história, com seus destroços atraindo várias expedições de exploração ao longo dos anos.\n",
        "\n",
        "*Fonte:* [WikiPedia](https://pt.wikipedia.org/wiki/RMS_Titanic)\n",
        "\n",
        "--------"
      ]
    },
    {
      "cell_type": "markdown",
      "metadata": {
        "id": "LMoyG8jPthnH"
      },
      "source": [
        "## A equipe da [Udacity](https://udacity.com) disponibilizou informações sobre uma parte dos passageiros à bordo do RMS Titanic no dia daquela tragédia. Esse _dataset_ que contém informações reais vem sendo utilizado em diversos estudos de caso, além de servir de base para aprendizado de Ciência de Dados, Estatística e Machine Learning.\n",
        "\n",
        "## O arquivo **titanic.data** contém informações reais sobre os passageiros organizadas da seguinte forma:\n",
        "\n",
        "- Survived (Sobreviveu): 0 = Não, 1 = Sim\n",
        "- Pclass (Classe): Classe de ingresso 1 = 1º, 2 = 2º, 3 = 3º\n",
        "- Sex (Sexo): Sexo do passageiro\n",
        "- Age (Idade): Idade em anos\n",
        "- Sibsp: Quantidade de irmãos / cônjuges a bordo do Titanic\n",
        "- Parch: Quantidade de pais / crianças a bordo do Titanic\n",
        "- Ticket (Bilhete): Número do bilhete de embarque\n",
        "- Fare (Tarifa): Tarifa paga pelo Passageiro\n",
        "- Cabin (Cabine): Número de cabine\n",
        "- Embarked (Embarque): Porto de Embarque (C = Cherbourg, Q = Queenstown, S = Southampton)\n",
        "\n",
        "## O objetivo deste estudo é obter algumas informações estatísticas sobre a tragédia e realizar alguns _insights_ a respeito dos tripulantes e das circunstâncias do acidente.\n",
        "\n",
        "## Efetue a carga do arquivo através da biblioteca _Pandas_ e a partir do _DataFrame_ gerado, efetue as operações necessárias para responder as questões.\n"
      ]
    },
    {
      "cell_type": "markdown",
      "metadata": {
        "id": "iI8EIkmCthnI"
      },
      "source": [
        "## Importando o DataSet"
      ]
    },
    {
      "cell_type": "markdown",
      "metadata": {
        "id": "82fwWEHhthnI"
      },
      "source": [
        "### 1 - Efetuar a leitura do dataset através do Pandas, gerando um DataFrame de nome tit, levando-se em consideração que o arquivo encontra-se na mesma pasta do notebook."
      ]
    },
    {
      "cell_type": "code",
      "metadata": {
        "id": "ad9D5wlTthnI"
      },
      "source": [
        "        "
      ],
      "execution_count": null,
      "outputs": []
    },
    {
      "cell_type": "markdown",
      "metadata": {
        "id": "KrPt7u4rthnJ"
      },
      "source": [
        "## Conhecendo o DataSet"
      ]
    },
    {
      "cell_type": "markdown",
      "metadata": {
        "id": "yYTRROFQthnJ"
      },
      "source": [
        "### 2 - Quantas linhas e colunas tem o dataset? Quais os tipos das colunas?"
      ]
    },
    {
      "cell_type": "code",
      "metadata": {
        "id": "PtN2FyJEthnJ"
      },
      "source": [
        "# linhas\n"
      ],
      "execution_count": null,
      "outputs": []
    },
    {
      "cell_type": "code",
      "metadata": {
        "id": "GyD6CkEIthnK"
      },
      "source": [
        "# colunas\n"
      ],
      "execution_count": null,
      "outputs": []
    },
    {
      "cell_type": "markdown",
      "metadata": {
        "id": "Gfa0sKvUthnK"
      },
      "source": [
        "### 3 - Mostre os dados dos dez primeiros e 8 últimos registros do dataset."
      ]
    },
    {
      "cell_type": "code",
      "metadata": {
        "id": "aDWd0LScthnK"
      },
      "source": [
        ""
      ],
      "execution_count": null,
      "outputs": []
    },
    {
      "cell_type": "markdown",
      "metadata": {
        "id": "WMGdqWGxthnK"
      },
      "source": [
        "### 4 - Cálculos envolvendo colunas numéricas com dados faltantes podem sofrer impacto. É possível afirmar se há dados faltantes no dataset? Caso positivo, quais e quantos seriam esses dados? Preencha os dados faltantes de forma que não influenciem em operações futuras."
      ]
    },
    {
      "cell_type": "code",
      "metadata": {
        "id": "-8w2JTywthnK"
      },
      "source": [
        ""
      ],
      "execution_count": null,
      "outputs": []
    },
    {
      "cell_type": "markdown",
      "metadata": {
        "id": "KWwdISXLthnL"
      },
      "source": [
        "## Adequando o DataSet"
      ]
    },
    {
      "cell_type": "markdown",
      "metadata": {
        "id": "nt9GMl56thnL"
      },
      "source": [
        "### 4 - Uma vez que algumas colunas não serão utilizadas, eventualmente é melhor excluí-las para que não interfiram na análise. Assim, exclua do dataset as colunas Sibsp, Parch e Ticket."
      ]
    },
    {
      "cell_type": "code",
      "metadata": {
        "id": "0_5I68FtthnL"
      },
      "source": [
        ""
      ],
      "execution_count": null,
      "outputs": []
    },
    {
      "cell_type": "markdown",
      "metadata": {
        "id": "tGOzuLH2thnL"
      },
      "source": [
        "### 5 - Renomear as colunas restantes para a lingua portuguesa, utilizando os seguintes nomes de colunas: IdPassageiro, Sobreviveu, Classe, Nome, Sexo, Idade, Tarifa, Cabine e Embarque."
      ]
    },
    {
      "cell_type": "code",
      "metadata": {
        "id": "iC592-kVthnL"
      },
      "source": [
        ""
      ],
      "execution_count": null,
      "outputs": []
    },
    {
      "cell_type": "markdown",
      "metadata": {
        "id": "WCZ7AFwOthnL"
      },
      "source": [
        "### 6 - Alterar o conteudo da coluna Sobreviveu para:\n",
        "- 0 => Não\n",
        "- 1 => Sim"
      ]
    },
    {
      "cell_type": "code",
      "metadata": {
        "id": "-QdGiBp6thnM"
      },
      "source": [
        ""
      ],
      "execution_count": null,
      "outputs": []
    },
    {
      "cell_type": "markdown",
      "metadata": {
        "id": "GAMu-ORethnM"
      },
      "source": [
        "### 7 - Alterar o conteudo da coluna Sexo para:\n",
        "- female => Mulher\n",
        "- male   => Homem"
      ]
    },
    {
      "cell_type": "code",
      "metadata": {
        "id": "b593Q1arthnM"
      },
      "source": [
        ""
      ],
      "execution_count": null,
      "outputs": []
    },
    {
      "cell_type": "markdown",
      "metadata": {
        "id": "ehKocVGDthnM"
      },
      "source": [
        "## Alguns números"
      ]
    },
    {
      "cell_type": "markdown",
      "metadata": {
        "id": "8uA1W9E_thnM"
      },
      "source": [
        "### 8 - Quantas mulheres e quantos homems estavam à bordo, de acordo com o dataset?"
      ]
    },
    {
      "cell_type": "code",
      "metadata": {
        "id": "NUUFgpoIthnM"
      },
      "source": [
        ""
      ],
      "execution_count": null,
      "outputs": []
    },
    {
      "cell_type": "markdown",
      "metadata": {
        "id": "GPCHFO7hthnM"
      },
      "source": [
        "### 9 - Quantos passageiros sobreviveram e quantos não sobreviveram?"
      ]
    },
    {
      "cell_type": "code",
      "metadata": {
        "id": "u_9PruN5thnN"
      },
      "source": [
        ""
      ],
      "execution_count": null,
      "outputs": []
    },
    {
      "cell_type": "markdown",
      "metadata": {
        "id": "L_872AtJthnN"
      },
      "source": [
        "### 10 - Quantas mulheres não sobreviveram?"
      ]
    },
    {
      "cell_type": "code",
      "metadata": {
        "id": "oGa4lTm5thnN"
      },
      "source": [
        ""
      ],
      "execution_count": null,
      "outputs": []
    },
    {
      "cell_type": "markdown",
      "metadata": {
        "id": "YMfruNRWthnN"
      },
      "source": [
        "### 11 - Proporcionalmente, sobreviveram mais homens ou mais mulheres? Cite as proporções."
      ]
    },
    {
      "cell_type": "code",
      "metadata": {
        "id": "7JoTkMUtthnN"
      },
      "source": [
        ""
      ],
      "execution_count": null,
      "outputs": []
    },
    {
      "cell_type": "markdown",
      "metadata": {
        "id": "O6NTWe8JthnN"
      },
      "source": [
        "### 12 - Levando-se em consideração a idade dos passageiros, qual a idade e quantidade de pessoas com o maior número de mortos?"
      ]
    },
    {
      "cell_type": "code",
      "metadata": {
        "id": "xDeFe0hithnN"
      },
      "source": [
        ""
      ],
      "execution_count": null,
      "outputs": []
    },
    {
      "cell_type": "markdown",
      "metadata": {
        "id": "7QKCkH0DthnN"
      },
      "source": [
        "### 13 - Qual a média de idade dos homens sobreviventes?"
      ]
    },
    {
      "cell_type": "code",
      "metadata": {
        "id": "ecyu0nN1thnO"
      },
      "source": [
        ""
      ],
      "execution_count": null,
      "outputs": []
    },
    {
      "cell_type": "markdown",
      "metadata": {
        "id": "L2o4wN4YthnO"
      },
      "source": [
        "### 14 - Levando-se em consideração passageiros prioritários (mulheres e crianças de até 15 anos independente do sexo) qual a proporção de sobreviventes por sexo?"
      ]
    },
    {
      "cell_type": "code",
      "metadata": {
        "id": "pKt0yA_kthnO"
      },
      "source": [
        ""
      ],
      "execution_count": null,
      "outputs": []
    },
    {
      "cell_type": "markdown",
      "metadata": {
        "id": "vxHh34HJthnO"
      },
      "source": [
        "### 15 - Qual a quantidade de passageiros por classe?"
      ]
    },
    {
      "cell_type": "code",
      "metadata": {
        "id": "Z-3fBbBAthnO"
      },
      "source": [
        ""
      ],
      "execution_count": null,
      "outputs": []
    },
    {
      "cell_type": "markdown",
      "metadata": {
        "id": "ImcrkvczthnO"
      },
      "source": [
        "### 16 - Qual o percentual de sobreviventes por classe?"
      ]
    },
    {
      "cell_type": "code",
      "metadata": {
        "id": "PjKCDzoSthnO"
      },
      "source": [
        ""
      ],
      "execution_count": null,
      "outputs": []
    },
    {
      "cell_type": "markdown",
      "metadata": {
        "id": "2QXn8Oq9thnP"
      },
      "source": [
        "### 17 - Crie um dataframe que demonstre a quantidade de sobreviventes e não sobreviventes, agrupados por sexo e classe."
      ]
    },
    {
      "cell_type": "code",
      "metadata": {
        "id": "8nffA9CHthnP"
      },
      "source": [
        ""
      ],
      "execution_count": null,
      "outputs": []
    },
    {
      "cell_type": "markdown",
      "metadata": {
        "id": "yjHB1CJhthnP"
      },
      "source": [
        "### 18 - Dos homens com idade entre 24 e 30 anos quantos da classe 3 sobreviveram? Quantos da classe 2 não sobreviveram?"
      ]
    },
    {
      "cell_type": "code",
      "metadata": {
        "id": "KDhRjPZkthnP"
      },
      "source": [
        ""
      ],
      "execution_count": null,
      "outputs": []
    },
    {
      "cell_type": "markdown",
      "metadata": {
        "id": "yoj8bJLot4in"
      },
      "source": [
        "### 19 - Represente graficamente duas comparações que preferir e analise/descreva quais as conclusões obtidas."
      ]
    },
    {
      "cell_type": "code",
      "metadata": {
        "id": "x429RbIXuCu2"
      },
      "source": [
        ""
      ],
      "execution_count": null,
      "outputs": []
    }
  ]
}